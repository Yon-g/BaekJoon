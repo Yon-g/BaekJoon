{
 "cells": [
  {
   "cell_type": "code",
   "execution_count": 35,
   "id": "8c74cc64",
   "metadata": {},
   "outputs": [
    {
     "name": "stdout",
     "output_type": "stream",
     "text": [
      "1\n",
      "1 10\n",
      "10\n"
     ]
    }
   ],
   "source": [
    "def factorial(n):\n",
    "    num = 1\n",
    "    for a in range(1,n+1):\n",
    "        num *= a\n",
    "    return num\n",
    "\n",
    "T = int(input())\n",
    "for _ in range(0,T):\n",
    "    a, b = map(int, input().split())\n",
    "    print(factorial(b)//(factorial(b-a)*factorial(a)))"
   ]
  },
  {
   "cell_type": "code",
   "execution_count": null,
   "id": "5c1deddb",
   "metadata": {},
   "outputs": [],
   "source": []
  },
  {
   "cell_type": "code",
   "execution_count": null,
   "id": "ca8c684b",
   "metadata": {},
   "outputs": [],
   "source": []
  }
 ],
 "metadata": {
  "kernelspec": {
   "display_name": "Python 3 (ipykernel)",
   "language": "python",
   "name": "python3"
  },
  "language_info": {
   "codemirror_mode": {
    "name": "ipython",
    "version": 3
   },
   "file_extension": ".py",
   "mimetype": "text/x-python",
   "name": "python",
   "nbconvert_exporter": "python",
   "pygments_lexer": "ipython3",
   "version": "3.8.5"
  }
 },
 "nbformat": 4,
 "nbformat_minor": 5
}
